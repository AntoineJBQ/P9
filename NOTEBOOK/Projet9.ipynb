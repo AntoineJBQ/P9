{
  "cells": [
    {
      "cell_type": "markdown",
      "metadata": {
        "id": "G0W2y81NgJwM"
      },
      "source": [
        "# Import et etudes fichiers"
      ]
    },
    {
      "cell_type": "markdown",
      "metadata": {
        "id": "l8VGX2H2m_V3"
      },
      "source": [
        "## import"
      ]
    },
    {
      "cell_type": "code",
      "execution_count": 158,
      "metadata": {
        "id": "a4Qxi3m5qoCt"
      },
      "outputs": [],
      "source": [
        "# installations et imports des autres packages\n",
        "import pandas as pd\n",
        "import numpy as np\n",
        "import seaborn as sns\n",
        "from sklearn.preprocessing import MinMaxScaler\n",
        "import matplotlib.pyplot as plt\n",
        "from scipy.cluster.hierarchy import linkage, dendrogram\n",
        "from sklearn.decomposition import PCA\n",
        "from sklearn.preprocessing import StandardScaler\n",
        "# import fonctions as fc\n",
        "from sklearn.cluster import KMeans\n",
        "from sklearn.metrics import silhouette_score\n",
        "from scipy.cluster.hierarchy import dendrogram, linkage"
      ]
    },
    {
      "cell_type": "markdown",
      "metadata": {
        "id": "SjqLx80FiVXo"
      },
      "source": [
        "## Sheet data\n"
      ]
    },
    {
      "cell_type": "code",
      "execution_count": 159,
      "metadata": {
        "id": "HlYgeUVTIcjC"
      },
      "outputs": [],
      "source": [
        "# file path\n",
        "# data_file_path = \"DisponibiliteAlimentaire_2017.csv\"\n",
        "data_file_path = \"/content/drive/MyDrive/OC/P9/DATA/DisponibiliteAlimentaire_2017.csv\"\n",
        "df_data = pd.read_csv(data_file_path)"
      ]
    },
    {
      "cell_type": "code",
      "execution_count": 160,
      "metadata": {
        "id": "SVictB3prFNO",
        "outputId": "3ba651be-b145-490b-a734-20a958b0eb00",
        "colab": {
          "base_uri": "https://localhost:8080/",
          "height": 193
        }
      },
      "outputs": [
        {
          "output_type": "error",
          "ename": "NameError",
          "evalue": "ignored",
          "traceback": [
            "\u001b[0;31m---------------------------------------------------------------------------\u001b[0m",
            "\u001b[0;31mNameError\u001b[0m                                 Traceback (most recent call last)",
            "\u001b[0;32m<ipython-input-160-ef307ddda031>\u001b[0m in \u001b[0;36m<cell line: 2>\u001b[0;34m()\u001b[0m\n\u001b[1;32m      1\u001b[0m \u001b[0;31m# Utilisation de la fonction\u001b[0m\u001b[0;34m\u001b[0m\u001b[0;34m\u001b[0m\u001b[0m\n\u001b[0;32m----> 2\u001b[0;31m \u001b[0mfc\u001b[0m\u001b[0;34m.\u001b[0m\u001b[0metude_fichier\u001b[0m\u001b[0;34m(\u001b[0m\u001b[0mdf_data\u001b[0m\u001b[0;34m)\u001b[0m\u001b[0;34m\u001b[0m\u001b[0;34m\u001b[0m\u001b[0m\n\u001b[0m",
            "\u001b[0;31mNameError\u001b[0m: name 'fc' is not defined"
          ]
        }
      ],
      "source": [
        "# Utilisation de la fonction\n",
        "fc.etude_fichier(df_data)"
      ]
    },
    {
      "cell_type": "markdown",
      "metadata": {
        "id": "8-tAKVhTsWru"
      },
      "source": [
        "**Unités**\n",
        "\n",
        "Unité = 'Milliers de tonnes', 'kg', Kcal/personne/jour', 'g/personne/jour'\n",
        "\n",
        "Description du Symbole = 'Données standardisées', 'Donnée calculée'"
      ]
    },
    {
      "cell_type": "code",
      "execution_count": null,
      "metadata": {
        "id": "vWK-YXSg-QMV"
      },
      "outputs": [],
      "source": [
        "# Sélection des colonnes\n",
        "colonnes_a_supprimer = ['Code Domaine', 'Code zone','Description du Symbole', 'Code Élément', 'Code Produit',  'Code année', 'Symbole', \"Domaine\"]\n",
        "\n",
        "# Supprimer les colonnes du dataframe final\n",
        "df_data = df_data.drop(columns=colonnes_a_supprimer)\n",
        "\n",
        "# Afficher les premières lignes du nouveau dataframe\n",
        "df_data.head()"
      ]
    },
    {
      "cell_type": "code",
      "execution_count": null,
      "metadata": {
        "id": "yc4nl7SS4ivs"
      },
      "outputs": [],
      "source": [
        "df_data = df_data[df_data['Produit'] == 'Viande de Volailles'] # On ne garde que les produits de type viande de volailles\n",
        "df_data = df_data[df_data['Élément'].isin(['Production', 'Importations - Quantité', 'Exportations - Quantité', 'Disponibilité intérieure', 'Disponibilité de protéines en quantité (g/personne/jour)'])] # On ne garde que les éléments de type nourriture\n",
        "df_data.head(10)"
      ]
    },
    {
      "cell_type": "code",
      "execution_count": null,
      "metadata": {
        "id": "RFh7-vqe4ivv"
      },
      "outputs": [],
      "source": [
        "# Utilisez la fonction pivot_table pour effectuer la transformation\n",
        "df_data = df_data.pivot_table(index=['Zone'],\n",
        "                                columns='Élément',\n",
        "                                values='Valeur',\n",
        "                                aggfunc='sum').reset_index()\n",
        "\n",
        "# Affiche le DataFrame transformé\n",
        "df_data.head()"
      ]
    },
    {
      "cell_type": "markdown",
      "metadata": {
        "id": "1LGrqTTUmgq9"
      },
      "source": [
        "## sheet population"
      ]
    },
    {
      "cell_type": "code",
      "execution_count": null,
      "metadata": {
        "id": "O1ipFtWAl-1O"
      },
      "outputs": [],
      "source": [
        "# file path\n",
        "# population_file_path = \"Population_2000_2018.csv\"\n",
        "population_file_path = \"/content/drive/MyDrive/OC/P9/DATA/Population_2000_2018.csv\"\n",
        "df_population = pd.read_csv(population_file_path)"
      ]
    },
    {
      "cell_type": "markdown",
      "metadata": {
        "id": "lRrA0ITM4ivy"
      },
      "source": [
        "### Etude"
      ]
    },
    {
      "cell_type": "code",
      "execution_count": null,
      "metadata": {
        "id": "KqKwU3gO4ivz"
      },
      "outputs": [],
      "source": [
        "df_population.head()"
      ]
    },
    {
      "cell_type": "code",
      "execution_count": null,
      "metadata": {
        "id": "JQI61CLZmYPA"
      },
      "outputs": [],
      "source": [
        "fc.etude_fichier(df_population)"
      ]
    },
    {
      "cell_type": "code",
      "execution_count": null,
      "metadata": {
        "id": "DLUqPB6q-Kl7"
      },
      "outputs": [],
      "source": [
        "# Liste des colonnes à supprimer\n",
        "colonnes_a_supprimer = ['Code Domaine', 'Code zone', 'Code Élément', 'Élément','Code Produit', 'Code année', 'Unité', 'Symbole', 'Description du Symbole', 'Note', \"Domaine\", \"Produit\"]\n",
        "\n",
        "# Supprimer les colonnes du dataframe final\n",
        "df_population = df_population.drop(columns=colonnes_a_supprimer)\n",
        "\n",
        "# Renommer la colonne\n",
        "df_population = df_population.rename(columns={\"Valeur\": \"Population\"})\n",
        "\n",
        "# Afficher les premières lignes du nouveau dataframe\n",
        "df_population.head()"
      ]
    },
    {
      "cell_type": "code",
      "execution_count": null,
      "metadata": {
        "id": "TvIMK4GcO0r3"
      },
      "outputs": [],
      "source": [
        "# Convertion en int\n",
        "df_population['Population'] = pd.to_numeric(df_population['Population'], errors='coerce')\n",
        "\n",
        "# Convertion en integer\n",
        "df_population['Population'] = df_population['Population'].astype(int)\n",
        "\n",
        "# Multiplier par1000\n",
        "df_population['Population'] = df_population['Population']*1000\n",
        "\n",
        "# Afficher les premières lignes du nouveau dataframe\n",
        "df_population = df_population[df_population['Année'] == 2017]\n",
        "\n",
        "df_population.head(10)"
      ]
    },
    {
      "cell_type": "markdown",
      "metadata": {
        "id": "xABLEWLS4iv4"
      },
      "source": [
        "## sheet PIB"
      ]
    },
    {
      "cell_type": "code",
      "execution_count": null,
      "metadata": {
        "id": "34CvW99X4iv4"
      },
      "outputs": [],
      "source": [
        "# # file path\n",
        "# population_file_path = \"PIB_par_hab_2017.csv\"\n",
        "population_file_path = \"/content/drive/MyDrive/OC/P9/DATA/PIB_par_hab_2017.csvv\"\n",
        "df_pib = pd.read_csv(population_file_path)"
      ]
    },
    {
      "cell_type": "code",
      "execution_count": null,
      "metadata": {
        "id": "8xiYP0dw4iv5"
      },
      "outputs": [],
      "source": [
        "df_pib.head()"
      ]
    },
    {
      "cell_type": "code",
      "execution_count": null,
      "metadata": {
        "id": "9lwSJb7T4iv6"
      },
      "outputs": [],
      "source": [
        "# Liste des colonnes à supprimer\n",
        "colonnes_a_supprimer = ['Année','Code Domaine', 'Code zone (M49)', 'Code Élément', 'Élément','Code Produit', 'Code année', 'Unité', 'Symbole', 'Description du Symbole', 'Note', \"Domaine\", \"Produit\"]\n",
        "\n",
        "# Supprimer les colonnes du dataframe final\n",
        "df_pib = df_pib.drop(columns=colonnes_a_supprimer)\n",
        "\n",
        "# Renommer la colonne\n",
        "df_pib = df_pib.rename(columns={\"Valeur\": \"PIB US $ par habitant\"})\n",
        "\n",
        "# Afficher les premières lignes du nouveau dataframe\n",
        "df_pib.head()"
      ]
    },
    {
      "cell_type": "markdown",
      "metadata": {
        "id": "kU0LVU1y4iv7"
      },
      "source": [
        "## Sheet Sous-alimentation"
      ]
    },
    {
      "cell_type": "code",
      "execution_count": null,
      "metadata": {
        "id": "pOigpWth4iv7"
      },
      "outputs": [],
      "source": [
        "# file path\n",
        "# population_file_path = \"nb_personnes_sous_alimenté_2017.csv\"\n",
        "population_file_path = \"/content/drive/MyDrive/OC/P9/DATA/nb_personnes_sous_alimenté_2017.csv\"\n",
        "df_sous_nutrition = pd.read_csv(population_file_path)"
      ]
    },
    {
      "cell_type": "code",
      "execution_count": null,
      "metadata": {
        "id": "ekA2jxmT4iv8"
      },
      "outputs": [],
      "source": [
        "df_sous_nutrition.info()"
      ]
    },
    {
      "cell_type": "code",
      "execution_count": null,
      "metadata": {
        "id": "3w_kzDXe4iv8"
      },
      "outputs": [],
      "source": [
        "df_sous_nutrition.head()"
      ]
    },
    {
      "cell_type": "code",
      "execution_count": null,
      "metadata": {
        "id": "OEyQWXV54iv9"
      },
      "outputs": [],
      "source": [
        "df_sous_nutrition['Valeur'] = df_sous_nutrition['Valeur'].replace('<0.1', '0.1')\n",
        "df_sous_nutrition['Valeur'] = df_sous_nutrition['Valeur'].astype(float)"
      ]
    },
    {
      "cell_type": "code",
      "execution_count": null,
      "metadata": {
        "id": "I2wVaJx44iv9"
      },
      "outputs": [],
      "source": [
        "# Liste des colonnes à supprimer\n",
        "colonnes_a_supprimer = ['Année','Code Domaine', 'Code zone (M49)', 'Code Élément', 'Élément','Code Produit', 'Code année', 'Unité', 'Symbole', 'Description du Symbole', 'Note', \"Domaine\", \"Produit\"]\n",
        "\n",
        "# Supprimer les colonnes du dataframe final\n",
        "df_sous_nutrition = df_sous_nutrition.drop(columns=colonnes_a_supprimer)\n",
        "\n",
        "# Renommer la colonne\n",
        "df_sous_nutrition = df_sous_nutrition.rename(columns={\"Valeur\": \"Nombre de personnes sous-alimentées\"})\n",
        "\n",
        "# Afficher les premières lignes\n",
        "df_sous_nutrition.head()"
      ]
    },
    {
      "cell_type": "code",
      "execution_count": null,
      "metadata": {
        "id": "ObOmgglg4iv-"
      },
      "outputs": [],
      "source": [
        "df_sous_nutrition.isnull().sum()"
      ]
    },
    {
      "cell_type": "code",
      "execution_count": null,
      "metadata": {
        "id": "aSjLgNCj4iv_"
      },
      "outputs": [],
      "source": [
        "df_sous_nutrition.shape"
      ]
    },
    {
      "cell_type": "code",
      "execution_count": null,
      "metadata": {
        "id": "AV965EcM4iwA"
      },
      "outputs": [],
      "source": [
        "df_sous_nutrition.info()"
      ]
    },
    {
      "cell_type": "markdown",
      "metadata": {
        "id": "TtouHe40tCH4"
      },
      "source": [
        "# Jointures"
      ]
    },
    {
      "cell_type": "code",
      "execution_count": null,
      "metadata": {
        "id": "jF5FwCkjNUp3"
      },
      "outputs": [],
      "source": [
        "# Jointures des deux df\n",
        "data = pd.merge(df_data, df_population, on=['Zone'])\n",
        "data.head()"
      ]
    },
    {
      "cell_type": "code",
      "execution_count": null,
      "metadata": {
        "id": "TyW00Ohc4iwF"
      },
      "outputs": [],
      "source": [
        "data = pd.merge(data, df_pib, on=['Zone'])"
      ]
    },
    {
      "cell_type": "code",
      "execution_count": null,
      "metadata": {
        "id": "4AdT9Rbo4iwG"
      },
      "outputs": [],
      "source": [
        "data.head()"
      ]
    },
    {
      "cell_type": "code",
      "execution_count": null,
      "metadata": {
        "id": "eYDZozJG4iwG"
      },
      "outputs": [],
      "source": [
        "data = pd.merge(data, df_sous_nutrition, on=['Zone'])\n",
        "data.head()"
      ]
    },
    {
      "cell_type": "markdown",
      "metadata": {
        "id": "ckVPZbkcgP1U"
      },
      "source": [
        "# Manipulation des données"
      ]
    },
    {
      "cell_type": "markdown",
      "metadata": {
        "id": "OWCLC0aO4iwH"
      },
      "source": [
        "## début de l'analsye"
      ]
    },
    {
      "cell_type": "code",
      "source": [
        "names = data.Zone.values\n",
        "names.head()"
      ],
      "metadata": {
        "id": "RTedOipW5KZn"
      },
      "execution_count": null,
      "outputs": []
    },
    {
      "cell_type": "code",
      "execution_count": null,
      "metadata": {
        "id": "pE-54-gv4iwH"
      },
      "outputs": [],
      "source": [
        "#transformation en Kg\n",
        "data['Disponibilité intérieure'] = data['Disponibilité de protéines en quantité (g/personne/jour)']* 1000000\n",
        "data['Importations - Quantité'] = data['Importations - Quantité'] * 1000000\n",
        "data['Production'] = data['Production']  * 1000000\n",
        "data['Exportations - Quantité'] = data['Exportations - Quantité']  * 1000000\n",
        "\n",
        "# mettre à la bonne échelle\n",
        "df_sous_nutrition['Nombre de personnes sous-alimentées'] = df_sous_nutrition['Nombre de personnes sous-alimentées']*1000000\n",
        "data.head()\n",
        "\n",
        "#pondération par la population\n",
        "data['Disponibilité intérieure'] = data['Disponibilité intérieure'] / data['Population']\n",
        "data['Importations - Quantité'] = data['Importations - Quantité'] / data['Population']\n",
        "data['Exportations - Quantité'] = data['Exportations - Quantité'] / data['Population']\n",
        "data['Production'] = data['Production'] / data['Population']\n",
        "data['Disponibilité de protéines en quantité (g/personne/jour)'] = data['Disponibilité de protéines en quantité (g/personne/jour)'] * 365\n",
        "\n",
        "#renommage des colonnes\n",
        "data.rename(columns={'Disponibilité de protéines en quantité (g/personne/jour)': 'Disponibilité de protéines en quantité (g/personne/an)'}, inplace=True)\n",
        "data.rename(columns={'Disponibilité intérieure': 'Disponibilité intérieure/ Population'}, inplace=True)\n",
        "data.rename(columns={'Exportations - Quantité': 'Exportations / Population'}, inplace=True)\n",
        "data.rename(columns={'Importations - Quantité': 'Importations / Population'}, inplace=True)\n",
        "data.rename(columns={'Production': 'Production / Population'}, inplace=True)\n",
        "\n",
        "data.drop(columns=['Année'], inplace=True)\n",
        "data.head()"
      ]
    },
    {
      "cell_type": "markdown",
      "metadata": {
        "id": "3_6WP2ED4iwI"
      },
      "source": [
        "## Valeurs manquantes"
      ]
    },
    {
      "cell_type": "code",
      "execution_count": null,
      "metadata": {
        "id": "sm-89Exf4iwT"
      },
      "outputs": [],
      "source": [
        "fc.visualiser_valeurs_manquantes(data)"
      ]
    },
    {
      "cell_type": "markdown",
      "metadata": {
        "id": "VfQ66W0y4iwU"
      },
      "source": [
        "Au vu des valeurs manquantes par colonne, on peut décider de supprimer la colonne avec la sous-nutrition car il manque trop de données pour pouvoir l'utiliser.\n",
        "\n",
        "Pour les exportations, on peut partir du principe que les valeurs manquantes peuvent être remplacées par 0 car cela signifie que le pays n'a pas d'exportations du produit.\n",
        "\n",
        "Pour les autres données, nous allons imputer la médiane à la place des NaN."
      ]
    },
    {
      "cell_type": "code",
      "execution_count": null,
      "metadata": {
        "id": "P3AXm2di4iwU"
      },
      "outputs": [],
      "source": [
        "# drop la colonne\n",
        "data.drop(columns=['Nombre de personnes sous-alimentées'], inplace=True)"
      ]
    },
    {
      "cell_type": "code",
      "execution_count": null,
      "metadata": {
        "id": "EV2AZ-f_4iwV"
      },
      "outputs": [],
      "source": [
        "# rempalce par 0\n",
        "data['Exportations / Population'].fillna(0, inplace=True)\n",
        "data['Importations / Population'].fillna(0, inplace=True)"
      ]
    },
    {
      "cell_type": "code",
      "execution_count": null,
      "metadata": {
        "id": "qpulDlQl4iwV"
      },
      "outputs": [],
      "source": [
        "fc.visualiser_valeurs_manquantes(data)"
      ]
    },
    {
      "cell_type": "code",
      "execution_count": null,
      "metadata": {
        "id": "DF0GfKJg4iwW"
      },
      "outputs": [],
      "source": [
        "data.dropna(inplace=True)"
      ]
    },
    {
      "cell_type": "markdown",
      "metadata": {
        "id": "V4B6KUgs4iwW"
      },
      "source": [
        "## Etude outliers"
      ]
    },
    {
      "cell_type": "code",
      "execution_count": null,
      "metadata": {
        "id": "p0D_kcns4iwW"
      },
      "outputs": [],
      "source": [
        "fc.etude_outliers(data,  seuil=2.0)"
      ]
    },
    {
      "cell_type": "markdown",
      "metadata": {
        "id": "0LVC3IXh4iwX"
      },
      "source": [
        "## Normalisation"
      ]
    },
    {
      "cell_type": "code",
      "execution_count": null,
      "metadata": {
        "id": "22tvnH7g4iwX"
      },
      "outputs": [],
      "source": [
        "data_num = data.select_dtypes(include=['float64', 'int64'])"
      ]
    },
    {
      "cell_type": "code",
      "execution_count": null,
      "metadata": {
        "id": "0TqokdnV4iwY"
      },
      "outputs": [],
      "source": [
        "# Créez un MinMaxScaler\n",
        "scaler = MinMaxScaler()\n",
        "\n",
        "colonnes_a_normaliser = data.select_dtypes(include='number').columns.tolist()\n",
        "\n",
        "# Normalisez les colonnes\n",
        "data[colonnes_a_normaliser] = scaler.fit_transform(data[colonnes_a_normaliser])\n",
        "\n",
        "# Afficher les premières lignes du DataFrame\n",
        "data.head()"
      ]
    },
    {
      "cell_type": "markdown",
      "metadata": {
        "id": "D5Iwn9FW4iwY"
      },
      "source": [
        "## Correlations"
      ]
    },
    {
      "cell_type": "code",
      "execution_count": null,
      "metadata": {
        "id": "MNzDIJpZ4iwY"
      },
      "outputs": [],
      "source": [
        "# Calcul de la matrice de corrélation pour le dataframe pivoté\n",
        "correlation = data_num.corr()\n",
        "\n",
        "# Visualisation de la matrice de corrélation\n",
        "plt.figure(figsize=(12, 8))\n",
        "sns.heatmap(correlation, annot=True, cmap='coolwarm')\n",
        "plt.title('Matrice de Corrélation pour le Dataframe Pivoté')\n",
        "plt.show()"
      ]
    },
    {
      "cell_type": "markdown",
      "metadata": {
        "id": "TpiKCib64iwZ"
      },
      "source": [
        "## POIDS des colonnes"
      ]
    },
    {
      "cell_type": "code",
      "execution_count": null,
      "metadata": {
        "id": "G_8mfmRZ4iwZ"
      },
      "outputs": [],
      "source": [
        "# poids —> faire *-2, et *-3 pour impacter négativement une colonne\n"
      ]
    },
    {
      "cell_type": "markdown",
      "metadata": {
        "id": "rAXsELpX4iwa"
      },
      "source": [
        "# PCA"
      ]
    },
    {
      "cell_type": "code",
      "execution_count": null,
      "metadata": {
        "id": "Gq3kS_iE4iwa"
      },
      "outputs": [],
      "source": [
        "from sklearn.decomposition import PCA\n",
        "\n",
        "# Définir une plage de nombres de composantes à tester\n",
        "plage_de_composantes = range(1, data_num.shape[1] + 1)\n",
        "\n",
        "# Listes pour stocker la variance expliquée et la variance expliquée cumulative\n",
        "variance_expliquee = []\n",
        "\n",
        "# Itérer à travers différents nombres de composantes\n",
        "for n_composantes in plage_de_composantes:\n",
        "    pca_pivot = PCA(n_components=n_composantes)\n",
        "    composantes_principales_pivot = pca_pivot.fit_transform(data_num)\n",
        "\n",
        "    # Calculer la variance expliquée et la variance expliquée cumulative\n",
        "    variance_expliquee.append(np.sum(pca_pivot.explained_variance_ratio_))\n",
        "\n",
        "# Tracer la variance expliquée et la variance expliquée cumulative\n",
        "plt.figure(figsize=(12, 6))\n",
        "plt.plot(plage_de_composantes, variance_expliquee, marker='o', linestyle='--')\n",
        "plt.xlabel('Nombre de Composantes')\n",
        "plt.ylabel('Variance Expliquée')\n",
        "plt.title('Variance Expliquée vs. Nombre de Composantes')"
      ]
    },
    {
      "cell_type": "markdown",
      "metadata": {
        "id": "upTg5VZa4iwb"
      },
      "source": [
        "## ACP 2 components"
      ]
    },
    {
      "cell_type": "code",
      "source": [
        "n_components = 6\n",
        "pca = PCA(n_components=n_components)\n",
        "pca.fit(data_num)"
      ],
      "metadata": {
        "id": "yXxKGuGdI772"
      },
      "execution_count": null,
      "outputs": []
    },
    {
      "cell_type": "code",
      "source": [
        "pca.explained_variance_ratio_"
      ],
      "metadata": {
        "id": "0bwjczLZI9uG"
      },
      "execution_count": null,
      "outputs": []
    },
    {
      "cell_type": "code",
      "source": [
        "scree = (pca.explained_variance_ratio_*100).round(2)\n",
        "scree"
      ],
      "metadata": {
        "id": "nYdhmdHLI-v_"
      },
      "execution_count": null,
      "outputs": []
    },
    {
      "cell_type": "code",
      "source": [
        "scree_cum = scree.cumsum().round()\n",
        "scree_cum"
      ],
      "metadata": {
        "id": "pFNe9PR_I_6z"
      },
      "execution_count": null,
      "outputs": []
    },
    {
      "cell_type": "code",
      "source": [
        "x_list = range(1, n_components+1)\n",
        "list(x_list)"
      ],
      "metadata": {
        "id": "fQW0mV3bJAtW"
      },
      "execution_count": null,
      "outputs": []
    },
    {
      "cell_type": "code",
      "source": [
        "plt.bar(x_list, scree)\n",
        "plt.plot(x_list, scree_cum,c=\"red\",marker='o')\n",
        "plt.xlabel(\"rang de l'axe d'inertie\")\n",
        "plt.ylabel(\"pourcentage d'inertie\")\n",
        "plt.title(\"Eboulis des valeurs propres\")\n",
        "plt.show(block=False)"
      ],
      "metadata": {
        "id": "I1RDGJDDJBx-"
      },
      "execution_count": null,
      "outputs": []
    },
    {
      "cell_type": "code",
      "source": [
        "pcs = pca.components_\n",
        "pcs"
      ],
      "metadata": {
        "id": "zLLRUCDMJC6d"
      },
      "execution_count": null,
      "outputs": []
    },
    {
      "cell_type": "code",
      "source": [
        "pcs = pd.DataFrame(pcs)\n",
        "pcs"
      ],
      "metadata": {
        "id": "9Q_7-auFJDlu"
      },
      "execution_count": null,
      "outputs": []
    },
    {
      "cell_type": "code",
      "source": [
        "features = data.columns\n",
        "features"
      ],
      "metadata": {
        "id": "QNV9m1ndJEWy"
      },
      "execution_count": null,
      "outputs": []
    },
    {
      "cell_type": "code",
      "source": [
        "pcs.columns = features\n",
        "pcs.index = [f\"F{i}\" for i in x_list]\n",
        "pcs.round(2)"
      ],
      "metadata": {
        "id": "XOAl_fTGJFP0"
      },
      "execution_count": null,
      "outputs": []
    },
    {
      "cell_type": "code",
      "source": [
        "x, y = 0,1"
      ],
      "metadata": {
        "id": "PDhy_iVpJGK0"
      },
      "execution_count": null,
      "outputs": []
    },
    {
      "cell_type": "code",
      "source": [
        "fig, ax = plt.subplots(figsize=(10, 9))\n",
        "for i in range(0, pca.components_.shape[1]):\n",
        "    ax.arrow(0,\n",
        "             0,  # Start the arrow at the origin\n",
        "             pca.components_[0, i],  #0 for PC1\n",
        "             pca.components_[1, i],  #1 for PC2\n",
        "             head_width=0.07,\n",
        "             head_length=0.07,\n",
        "             width=0.02,              )\n",
        "\n",
        "    plt.text(pca.components_[0, i] + 0.05,\n",
        "             pca.components_[1, i] + 0.05,\n",
        "             features[i])\n",
        "\n",
        "# affichage des lignes horizontales et verticales\n",
        "plt.plot([-1, 1], [0, 0], color='grey', ls='--')\n",
        "plt.plot([0, 0], [-1, 1], color='grey', ls='--')\n",
        "\n",
        "\n",
        "# nom des axes, avec le pourcentage d'inertie expliqué\n",
        "plt.xlabel('F{} ({}%)'.format(x+1, round(100*pca.explained_variance_ratio_[x],1)))\n",
        "plt.ylabel('F{} ({}%)'.format(y+1, round(100*pca.explained_variance_ratio_[y],1)))\n",
        "\n",
        "plt.title(\"Cercle des corrélations (F{} et F{})\".format(x+1, y+1))\n",
        "\n",
        "\n",
        "an = np.linspace(0, 2 * np.pi, 100)\n",
        "plt.plot(np.cos(an), np.sin(an))  # Add a unit circle for scale\n",
        "plt.axis('equal')\n",
        "plt.show(block=False)"
      ],
      "metadata": {
        "id": "tOfQHATpJHFt"
      },
      "execution_count": null,
      "outputs": []
    },
    {
      "cell_type": "code",
      "execution_count": null,
      "metadata": {
        "id": "BLQqm-nv4iwc"
      },
      "outputs": [],
      "source": [
        "# Application de l'ACP\n",
        "pca_pivot = PCA(n_components=2)  # Ajuster le nombre de composantes\n",
        "principal_components_pivot = pca_pivot.fit_transform(data_num)\n",
        "\n",
        "# Visualisation des résultats de l'ACP\n",
        "plt.figure(figsize=(10, 6))\n",
        "sns.scatterplot(x=principal_components_pivot[:, 0], y=principal_components_pivot[:, 1])\n",
        "plt.title('ACP - Vue en 2D')\n",
        "plt.xlabel('Composante principale 1')\n",
        "plt.ylabel('Composante principale 2')\n",
        "plt.show()"
      ]
    },
    {
      "cell_type": "markdown",
      "metadata": {
        "id": "RBMN_tE44iwd"
      },
      "source": [
        "## Cercle des corrélations"
      ]
    },
    {
      "cell_type": "code",
      "source": [
        "def correlation_graph(pca,\n",
        "                      x_y,\n",
        "                      features) :\n",
        "    \"\"\"Affiche le graphe des correlations\n",
        "\n",
        "    Positional arguments :\n",
        "    -----------------------------------\n",
        "    pca : sklearn.decomposition.PCA : notre objet PCA qui a été fit\n",
        "    x_y : list ou tuple : le couple x,y des plans à afficher, exemple [0,1] pour F1, F2\n",
        "    features : list ou tuple : la liste des features (ie des dimensions) à représenter\n",
        "    \"\"\"\n",
        "\n",
        "    # Extrait x et y\n",
        "    x,y=x_y\n",
        "\n",
        "    # Taille de l'image (en inches)\n",
        "    fig, ax = plt.subplots(figsize=(10, 9))\n",
        "\n",
        "    # Pour chaque composante :\n",
        "    for i in range(0, pca.components_.shape[1]):\n",
        "\n",
        "        # Les flèches\n",
        "        ax.arrow(0,0,\n",
        "                pca.components_[x, i],\n",
        "                pca.components_[y, i],\n",
        "                head_width=0.07,\n",
        "                head_length=0.07,\n",
        "                width=0.02, )\n",
        "\n",
        "        # Les labels\n",
        "        plt.text(pca.components_[x, i] + 0.05,\n",
        "                pca.components_[y, i] + 0.05,\n",
        "                features[i])\n",
        "\n",
        "    # Affichage des lignes horizontales et verticales\n",
        "    plt.plot([-1, 1], [0, 0], color='grey', ls='--')\n",
        "    plt.plot([0, 0], [-1, 1], color='grey', ls='--')\n",
        "\n",
        "    # Nom des axes, avec le pourcentage d'inertie expliqué\n",
        "    plt.xlabel('F{} ({}%)'.format(x+1, round(100*pca.explained_variance_ratio_[x],1)))\n",
        "    plt.ylabel('F{} ({}%)'.format(y+1, round(100*pca.explained_variance_ratio_[y],1)))\n",
        "\n",
        "    # J'ai copié collé le code sans le lire\n",
        "    plt.title(\"Cercle des corrélations (F{} et F{})\".format(x+1, y+1))\n",
        "\n",
        "    # Le cercle\n",
        "    an = np.linspace(0, 2 * np.pi, 100)\n",
        "    plt.plot(np.cos(an), np.sin(an))  # Add a unit circle for scale\n",
        "\n",
        "    # Axes et display\n",
        "    plt.axis('equal')\n",
        "    plt.show(block=False)\n",
        "\n",
        "correlation_graph(pca, [0,1], features)"
      ],
      "metadata": {
        "id": "Vi2yn1QgJLlG"
      },
      "execution_count": null,
      "outputs": []
    },
    {
      "cell_type": "code",
      "execution_count": null,
      "metadata": {
        "id": "oVg3TeLr4iwd"
      },
      "outputs": [],
      "source": [
        "# Obtenez les composantes principales et les coefficients de corrélation\n",
        "components = pca_pivot.components_\n",
        "correlations = np.corrcoef(data_num.T, principal_components_pivot.T)[:data_num.shape[1], -2:]\n",
        "\n",
        "# Créez un graphique pour le cercle des corrélations\n",
        "fig, ax = plt.subplots(figsize=(8, 8))\n",
        "\n",
        "# Tracez les vecteurs représentant les variables originales\n",
        "for i, (x, y) in enumerate(zip(components[0, :], components[1, :])):\n",
        "    ax.arrow(0, 0, x, y, head_width=0.1, head_length=0.1, fc='r', ec='r')\n",
        "    ax.text(x * 1.1, y * 1.1, data_num.columns[i], color='r')\n",
        "\n",
        "# Définissez les limites du graphique\n",
        "ax.set_xlim(-1, 1)\n",
        "ax.set_ylim(-1, 1)\n",
        "\n",
        "# Ajoutez un cercle\n",
        "circle = plt.Circle((0, 0), 1, fill=False)\n",
        "ax.add_artist(circle)\n",
        "\n",
        "# Affichez le cercle des corrélations\n",
        "plt.gca().set_aspect('equal', adjustable='box')\n",
        "plt.xlabel(\"Composante Principale 1\")\n",
        "plt.ylabel(\"Composante Principale 2\")\n",
        "plt.title(\"Cercle des Corrélations\")\n",
        "\n",
        "# Affichez le graphique\n",
        "plt.grid()\n",
        "plt.show()"
      ]
    },
    {
      "cell_type": "code",
      "execution_count": null,
      "metadata": {
        "id": "f0QljgDb4iwe"
      },
      "outputs": [],
      "source": [
        "# Calculate the covariance matrix\n",
        "cov_matrix = np.cov(data_num.T)\n",
        "\n",
        "# Calculate the eigenvalues and eigenvectors\n",
        "eigenvalues, eigenvectors = np.linalg.eig(cov_matrix)\n",
        "\n",
        "# Plot the scree plot\n",
        "plt.figure(figsize=(8, 6))\n",
        "plt.plot(range(1, len(eigenvalues) + 1), eigenvalues, marker='o', linestyle='--')\n",
        "plt.title(\"Scree Plot\")\n",
        "plt.xlabel(\"Principal Components\")\n",
        "plt.ylabel(\"Eigenvalues\")"
      ]
    },
    {
      "cell_type": "markdown",
      "metadata": {
        "id": "IIu765Sf4iwe"
      },
      "source": [
        "# Dendogramme"
      ]
    },
    {
      "cell_type": "code",
      "source": [
        "# fig, ax = plt.subplots(1, 1, figsize=(10,40))\n",
        "\n",
        "# _ = dendrogram(Z, ax=ax, labels=names, orientation = \"left\")\n",
        "\n",
        "# plt.title(\"Hierarchical Clustering Dendrogram\")\n",
        "# ax.set_xlabel(\"Distance\")\n",
        "# ax.set_ylabel(\"Cours\")\n",
        "# ax.tick_params(axis='x', which='major', labelsize=15)\n",
        "# ax.tick_params(axis='y', which='major', labelsize=15)"
      ],
      "metadata": {
        "id": "HixNLVH2JRQE"
      },
      "execution_count": null,
      "outputs": []
    },
    {
      "cell_type": "code",
      "source": [
        "fig, ax = plt.subplots(1, 1, figsize=(10,40))\n",
        "\n",
        "_ = dendrogram(Z, ax=ax, labels=names, orientation = \"left\")\n",
        "\n",
        "plt.title(\"Hierarchical Clustering Dendrogram\")\n",
        "ax.set_xlabel(\"Distance\")\n",
        "ax.set_ylabel(\"Cours\")\n",
        "ax.tick_params(axis='x', which='major', labelsize=15)\n",
        "ax.tick_params(axis='y', which='major', labelsize=15)"
      ],
      "metadata": {
        "id": "LqZQVnTj4yhw"
      },
      "execution_count": null,
      "outputs": []
    },
    {
      "cell_type": "code",
      "execution_count": null,
      "metadata": {
        "id": "hHHaL8ZU4iwe"
      },
      "outputs": [],
      "source": [
        "# Encode categorical data using one-hot encoding\n",
        "data_encoded = pd.get_dummies(data)\n",
        "\n",
        "# Calculate the linkage matrix\n",
        "Z_pivot = linkage(data_encoded, method='ward', orientation = \"left\", labels=names)\n",
        "\n",
        "# Display the dendrogram\n",
        "plt.figure(figsize=(20, 10))\n",
        "dendrogram(Z_pivot,ax=ax, labels=data.index)\n",
        "plt.title('Dendrogramme CAH')\n",
        "plt.xlabel('Zone')\n",
        "plt.ylabel('Distance')\n",
        "plt.show()"
      ]
    },
    {
      "cell_type": "markdown",
      "metadata": {
        "id": "tlEQ8hU44iwf"
      },
      "source": [
        "## Kmeans"
      ]
    },
    {
      "cell_type": "code",
      "execution_count": null,
      "metadata": {
        "id": "eGvSYH6C4iwf"
      },
      "outputs": [],
      "source": [
        "# Import the os module\n",
        "import os\n",
        "\n",
        "# Set the environment variable 'OMP_NUM_THREADS' to '1'\n",
        "os.environ['OMP_NUM_THREADS'] = '1'"
      ]
    },
    {
      "cell_type": "code",
      "source": [
        "from google.colab import drive\n",
        "drive.mount('/content/drive')"
      ],
      "metadata": {
        "id": "rX9WivdU5h4N"
      },
      "execution_count": null,
      "outputs": []
    },
    {
      "cell_type": "code",
      "execution_count": null,
      "metadata": {
        "id": "WbfmYniN4iwg"
      },
      "outputs": [],
      "source": [
        "# Définir une plage de nombres de clusters à tester\n",
        "plage_de_clusters = range(2, 11)  # Vous pouvez ajuster la plage selon vos besoins\n",
        "\n",
        "# Listes pour stocker l'inertie et les scores de silhouette\n",
        "valeurs_inertie = []\n",
        "scores_silhouette = []\n",
        "\n",
        "# Itérer à travers différents nombres de clusters et ajuster K-Means\n",
        "for n_clusters in plage_de_clusters:\n",
        "    kmeans_pivot = KMeans(n_clusters=n_clusters, n_init=10, random_state=42)\n",
        "    clusters_pivot = kmeans_pivot.fit_predict(data_num)\n",
        "\n",
        "    # Calculer l'inertie (somme des carrés intra-cluster)\n",
        "    valeurs_inertie.append(kmeans_pivot.inertia_)\n",
        "\n",
        "    # Calculer le score de silhouette\n",
        "    scores_silhouette.append(silhouette_score(data_num, clusters_pivot))\n",
        "\n",
        "# Tracer la méthode du coude pour déterminer le nombre optimal de clusters\n",
        "plt.figure(figsize=(12, 6))\n",
        "plt.subplot(1, 2, 1)\n",
        "plt.plot(plage_de_clusters, valeurs_inertie, marker='o', linestyle='--')\n",
        "plt.xlabel('Nombre de Clusters')\n",
        "plt.ylabel('Inertie (Somme des Carrés Intra-Cluster)')\n",
        "plt.title('Méthode du Coude')\n",
        "\n",
        "# Tracer le Score de Silhouette pour déterminer le nombre optimal de clusters\n",
        "plt.subplot(1, 2, 2)\n",
        "plt.plot(plage_de_clusters, scores_silhouette, marker='o', linestyle='--')\n",
        "plt.xlabel('Nombre de Clusters')\n",
        "plt.ylabel('Score de Silhouette')\n",
        "plt.title('Score de Silhouette')\n",
        "\n",
        "plt.tight_layout()\n",
        "plt.show()"
      ]
    },
    {
      "cell_type": "markdown",
      "metadata": {
        "id": "CQa9Gmqf4iwi"
      },
      "source": [
        "Méthode du Coude (Elbow Method) :\n",
        "\n",
        "La Méthode du Coude consiste à trouver le point dans un graphique de l'inertie où la diminution de l'inertie ralentit, formant un coude.\n",
        "Ce point représente généralement le nombre optimal de clusters dans une analyse de clustering.\n",
        "\n",
        "Score de Silhouette (Silhouette Score) :\n",
        "\n",
        "Le Score de Silhouette mesure à quel point les points d'un cluster sont similaires entre eux et différents des autres clusters.\n",
        "Il varie de -1 à 1, où un score élevé indique une meilleure séparation des clusters.\n",
        "Le nombre optimal de clusters est généralement celui qui donne le score de silhouette le plus élevé."
      ]
    },
    {
      "cell_type": "code",
      "execution_count": null,
      "metadata": {
        "id": "6eF78KEd4iwi"
      },
      "outputs": [],
      "source": [
        "from sklearn.cluster import KMeans\n",
        "from sklearn.preprocessing import StandardScaler\n",
        "\n",
        "# Standardisation des données pour K-Means\n",
        "scaler = StandardScaler()\n",
        "data_scaled_pivot = scaler.fit_transform(data_num)\n",
        "\n",
        "# Application de K-Means\n",
        "kmeans_pivot = KMeans(n_clusters=3)  # Ajuster le nombre de clusters\n",
        "clusters_pivot = kmeans_pivot.fit_predict(data_scaled_pivot)\n",
        "\n",
        "# Assigner les clusters aux données originales\n",
        "data['Cluster'] = clusters_pivot\n",
        "\n",
        "import matplotlib.pyplot as plt\n",
        "import seaborn as sns\n",
        "\n",
        "# Créez un nuage de points en utilisant seaborn pour visualiser les clusters\n",
        "plt.figure(figsize=(10, 6))\n",
        "sns.scatterplot(data=data_scaled_pivot, x=data_scaled_pivot[:, 0], y=data_scaled_pivot[:, 1], hue=clusters_pivot, palette='Set1')\n",
        "plt.title('Nuage de Points des Clusters K-Means')\n",
        "plt.xlabel('')\n",
        "plt.ylabel('')\n",
        "plt.show()"
      ]
    }
  ],
  "metadata": {
    "colab": {
      "collapsed_sections": [
        "4pRBoe_YiRvB"
      ],
      "provenance": []
    },
    "kernelspec": {
      "display_name": "Python 3",
      "name": "python3"
    },
    "language_info": {
      "codemirror_mode": {
        "name": "ipython",
        "version": 3
      },
      "file_extension": ".py",
      "mimetype": "text/x-python",
      "name": "python",
      "nbconvert_exporter": "python",
      "pygments_lexer": "ipython3",
      "version": "3.11.5"
    }
  },
  "nbformat": 4,
  "nbformat_minor": 0
}